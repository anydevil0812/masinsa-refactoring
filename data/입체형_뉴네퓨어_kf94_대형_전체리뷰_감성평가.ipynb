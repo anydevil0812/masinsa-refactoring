{
 "cells": [
  {
   "cell_type": "code",
   "execution_count": 10,
   "id": "466ff08c",
   "metadata": {},
   "outputs": [],
   "source": [
    "import numpy as np\n",
    "import pandas as pd\n",
    "import json\n",
    "from konlpy.tag import Mecab\n",
    "m = Mecab(dicpath=r\"C:\\mecab\\mecab-ko-dic\")\n",
    "df = pd.read_csv('C:/Users/SAMSUNG/NLP_TRY(Final project)/after_최종본/입체형_뉴네퓨어_kf94_대형_after2.csv')\n",
    "with open('C:/Users/SAMSUNG/NLP_TRY(Final project)/SentiWord_info(2차 수정본).json', encoding='utf-8-sig', mode='r') as f:\n",
    "        data = json.load(f)"
   ]
  },
  {
   "cell_type": "code",
   "execution_count": 7,
   "id": "b061a074",
   "metadata": {},
   "outputs": [
    {
     "data": {
      "text/plain": [
       "18569"
      ]
     },
     "execution_count": 7,
     "metadata": {},
     "output_type": "execute_result"
    }
   ],
   "source": [
    "len(df)"
   ]
  },
  {
   "cell_type": "code",
   "execution_count": 33,
   "id": "19144d91",
   "metadata": {},
   "outputs": [],
   "source": [
    "def evaluation(review):\n",
    "    result = []\n",
    "    word_result = []\n",
    "    pos = 0\n",
    "    neg = 0\n",
    "    word = m.morphs(review)\n",
    "    \n",
    "    for j in range(0, len(word)):\n",
    "        for i in range(0, len(data)):\n",
    "            if word[j] == data[i]['word_root']:\n",
    "                result.append(data[i]['polarity'])\n",
    "                word_result.append(data[i]['word'])\n",
    "    for i in result:\n",
    "        if i == 1:\n",
    "            pos += 1\n",
    "        elif i == -1:\n",
    "            neg += 1\n",
    "            \n",
    "    return pos, neg, result,word_result\n",
    "def fomula(pos, neg):\n",
    "    if pos == 0 and neg == 0:\n",
    "        return 0\n",
    "    \n",
    "    return ((pos - neg) / (pos + neg))"
   ]
  },
  {
   "cell_type": "code",
   "execution_count": 34,
   "id": "75afb9f3",
   "metadata": {},
   "outputs": [
    {
     "ename": "NameError",
     "evalue": "name 'numpy' is not defined",
     "output_type": "error",
     "traceback": [
      "\u001b[1;31m---------------------------------------------------------------------------\u001b[0m",
      "\u001b[1;31mNameError\u001b[0m                                 Traceback (most recent call last)",
      "\u001b[1;32m<ipython-input-34-b3cbcf83d323>\u001b[0m in \u001b[0;36m<module>\u001b[1;34m\u001b[0m\n\u001b[0;32m      6\u001b[0m     \u001b[0mF\u001b[0m\u001b[1;33m.\u001b[0m\u001b[0mappend\u001b[0m\u001b[1;33m(\u001b[0m\u001b[0mfomula\u001b[0m\u001b[1;33m(\u001b[0m\u001b[0mpos\u001b[0m\u001b[1;33m,\u001b[0m \u001b[0mneg\u001b[0m\u001b[1;33m)\u001b[0m\u001b[1;33m)\u001b[0m\u001b[1;33m\u001b[0m\u001b[1;33m\u001b[0m\u001b[0m\n\u001b[0;32m      7\u001b[0m \u001b[1;33m\u001b[0m\u001b[0m\n\u001b[1;32m----> 8\u001b[1;33m \u001b[0mmean\u001b[0m \u001b[1;33m=\u001b[0m \u001b[0mnumpy\u001b[0m\u001b[1;33m.\u001b[0m\u001b[0mmean\u001b[0m\u001b[1;33m(\u001b[0m\u001b[0mF\u001b[0m\u001b[1;33m)\u001b[0m\u001b[1;33m\u001b[0m\u001b[1;33m\u001b[0m\u001b[0m\n\u001b[0m\u001b[0;32m      9\u001b[0m \u001b[0mprint\u001b[0m\u001b[1;33m(\u001b[0m\u001b[0mmean\u001b[0m\u001b[1;33m)\u001b[0m\u001b[1;33m\u001b[0m\u001b[1;33m\u001b[0m\u001b[0m\n",
      "\u001b[1;31mNameError\u001b[0m: name 'numpy' is not defined"
     ]
    }
   ],
   "source": [
    "F = []\n",
    "for i in range(18569):\n",
    "    review = df['review_content\\r'][i]\n",
    "    \n",
    "    pos, neg, result, word_result = evaluation(review)\n",
    "    F.append(fomula(pos, neg))\n",
    "    \n",
    "mean = numpy.mean(F)\n",
    "print(mean)\n"
   ]
  },
  {
   "cell_type": "code",
   "execution_count": null,
   "id": "d6af5b41",
   "metadata": {},
   "outputs": [],
   "source": [
    "from datetime import datetime\n",
    "\n",
    "current_time = datetime.now()\n",
    "print(current_time)"
   ]
  },
  {
   "cell_type": "code",
   "execution_count": 35,
   "id": "23647769",
   "metadata": {},
   "outputs": [
    {
     "name": "stdout",
     "output_type": "stream",
     "text": [
      "0.6031534089041694\n"
     ]
    }
   ],
   "source": [
    "mean = np.mean(F)\n",
    "print(mean)\n"
   ]
  },
  {
   "cell_type": "code",
   "execution_count": 36,
   "id": "1ecec25a",
   "metadata": {},
   "outputs": [
    {
     "data": {
      "text/plain": [
       "80.15767044520847"
      ]
     },
     "execution_count": 36,
     "metadata": {},
     "output_type": "execute_result"
    }
   ],
   "source": [
    "(mean * 50) +50"
   ]
  },
  {
   "cell_type": "markdown",
   "id": "ed2482f6",
   "metadata": {},
   "source": [
    "이 제품의 전체 리뷰들의 감성 지수(추천 지수)는 -1에서 0점을 50점, 0에서 1사이를 50~100점으로 둘 때 80점으로 나타났습니다."
   ]
  }
 ],
 "metadata": {
  "kernelspec": {
   "display_name": "Python 3",
   "language": "python",
   "name": "python3"
  },
  "language_info": {
   "codemirror_mode": {
    "name": "ipython",
    "version": 3
   },
   "file_extension": ".py",
   "mimetype": "text/x-python",
   "name": "python",
   "nbconvert_exporter": "python",
   "pygments_lexer": "ipython3",
   "version": "3.7.10"
  }
 },
 "nbformat": 4,
 "nbformat_minor": 5
}
