{
 "cells": [
  {
   "cell_type": "code",
   "execution_count": 1,
   "id": "215780fc",
   "metadata": {},
   "outputs": [],
   "source": [
    "import re\n",
    "import numpy as np\n",
    "import pandas as pd\n",
    "import json\n",
    "from konlpy.tag import Mecab\n",
    "m = Mecab(dicpath=r\"C:\\mecab\\mecab-ko-dic\")\n",
    "df = pd.read_csv('C:/Users/SAMSUNG/NLP_TRY(Final project)/after_최종본/입체형_뉴네퓨어_kf94_대형_after2.csv')\n",
    "with open('C:/Users/SAMSUNG/NLP_TRY(Final project)/SentiWord_info(3차 수정본).json', encoding='utf-8-sig', mode='r') as f:\n",
    "        data = json.load(f)"
   ]
  },
  {
   "cell_type": "code",
   "execution_count": 2,
   "id": "4f2d9543",
   "metadata": {},
   "outputs": [],
   "source": [
    "res = []\n",
    "for i in range(18569):\n",
    "    res.append(df['review_content\\r'][i])"
   ]
  },
  {
   "cell_type": "code",
   "execution_count": 3,
   "id": "c42986d1",
   "metadata": {},
   "outputs": [],
   "source": [
    "res = \"\".join(res)"
   ]
  },
  {
   "cell_type": "code",
   "execution_count": 4,
   "id": "58c386d6",
   "metadata": {},
   "outputs": [],
   "source": [
    "res = res.replace('!', '.').replace('?', '.').replace('~', '.').replace('\\r', '.')"
   ]
  },
  {
   "cell_type": "code",
   "execution_count": 5,
   "id": "ff66160b",
   "metadata": {},
   "outputs": [],
   "source": [
    "res = res.split('.')"
   ]
  },
  {
   "cell_type": "markdown",
   "id": "bad9464b",
   "metadata": {},
   "source": [
    "## 착용감"
   ]
  },
  {
   "cell_type": "code",
   "execution_count": 43,
   "id": "4e2a6289",
   "metadata": {},
   "outputs": [],
   "source": [
    "evalution = []\n",
    "for i in range(len(res)):\n",
    "    if '착용감' in res[i]:\n",
    "        evalution.append(res[i])"
   ]
  },
  {
   "cell_type": "code",
   "execution_count": 44,
   "id": "05e4e8a9",
   "metadata": {},
   "outputs": [
    {
     "data": {
      "text/plain": [
       "380"
      ]
     },
     "execution_count": 44,
     "metadata": {},
     "output_type": "execute_result"
    }
   ],
   "source": [
    "len(evalution)"
   ]
  },
  {
   "cell_type": "code",
   "execution_count": 45,
   "id": "62d51385",
   "metadata": {},
   "outputs": [],
   "source": [
    "def eval(review):\n",
    "    result = []\n",
    "    word_result = []\n",
    "    pos = 0\n",
    "    neg = 0\n",
    "    word = m.morphs(review)\n",
    "    \n",
    "    for j in range(0, len(word)):\n",
    "        for i in range(0, len(data)):\n",
    "            if word[j] == data[i]['word_root']:\n",
    "                result.append(data[i]['polarity'])\n",
    "                word_result.append(data[i]['word'])\n",
    "    for i in result:\n",
    "        if i == 1:\n",
    "            pos += 1\n",
    "        elif i == -1:\n",
    "            neg += 1\n",
    "            \n",
    "    return pos, neg, result,word_result\n",
    "def fomula(pos, neg):\n",
    "    if pos == 0 and neg == 0:\n",
    "        return 0\n",
    "    \n",
    "    return ((pos - neg) / (pos + neg))"
   ]
  },
  {
   "cell_type": "code",
   "execution_count": 46,
   "id": "4eb25756",
   "metadata": {},
   "outputs": [],
   "source": [
    "F = []\n",
    "for i in range(380):\n",
    "    review = evalution[i]\n",
    "    \n",
    "    pos, neg, result, word_result = eval(review)\n",
    "    F.append(fomula(pos, neg))"
   ]
  },
  {
   "cell_type": "code",
   "execution_count": 47,
   "id": "b9fc44f1",
   "metadata": {},
   "outputs": [
    {
     "data": {
      "text/plain": [
       "[0.6363636363636364,\n",
       " 0.0,\n",
       " 1.0,\n",
       " 1.0,\n",
       " 0.7142857142857143,\n",
       " 1.0,\n",
       " 1.0,\n",
       " -0.52,\n",
       " 1.0,\n",
       " 1.0,\n",
       " 1.0,\n",
       " 0.3333333333333333,\n",
       " 1.0,\n",
       " 1.0,\n",
       " 1.0,\n",
       " 1.0,\n",
       " 1.0,\n",
       " 1.0,\n",
       " 1.0,\n",
       " 1.0,\n",
       " 1.0,\n",
       " 1.0,\n",
       " 1.0,\n",
       " 1.0,\n",
       " 1.0,\n",
       " 1.0,\n",
       " 1.0,\n",
       " 1.0,\n",
       " 1.0,\n",
       " 1.0,\n",
       " 1.0,\n",
       " 1.0,\n",
       " 1.0,\n",
       " 1.0,\n",
       " -0.3333333333333333,\n",
       " 0.5,\n",
       " 1.0,\n",
       " 1.0,\n",
       " 1.0,\n",
       " 1.0,\n",
       " 1.0,\n",
       " 1.0,\n",
       " 1.0,\n",
       " -1.0,\n",
       " 0.8823529411764706,\n",
       " 1.0,\n",
       " 1.0,\n",
       " 1.0,\n",
       " 1.0,\n",
       " 1.0,\n",
       " 1.0,\n",
       " 1.0,\n",
       " -0.05263157894736842,\n",
       " 0.6,\n",
       " 1.0,\n",
       " 1.0,\n",
       " 1.0,\n",
       " 1.0,\n",
       " 0.0,\n",
       " 1.0,\n",
       " 0.25925925925925924,\n",
       " -0.2222222222222222,\n",
       " 0,\n",
       " 1.0,\n",
       " 1.0,\n",
       " 1.0,\n",
       " 1.0,\n",
       " 1.0,\n",
       " 0.0,\n",
       " 1.0,\n",
       " 1.0,\n",
       " 0.6666666666666666,\n",
       " 1.0,\n",
       " -0.3333333333333333,\n",
       " 1.0,\n",
       " 1.0,\n",
       " 1.0,\n",
       " 1.0,\n",
       " 1.0,\n",
       " 1.0,\n",
       " 1.0,\n",
       " 1.0,\n",
       " 1.0,\n",
       " 1.0,\n",
       " 1.0,\n",
       " -0.16666666666666666,\n",
       " 1.0,\n",
       " 1.0,\n",
       " 0.0,\n",
       " 1.0,\n",
       " 1.0,\n",
       " 1.0,\n",
       " 1.0,\n",
       " 1.0,\n",
       " -0.3333333333333333,\n",
       " 0.0,\n",
       " 1.0,\n",
       " 1.0,\n",
       " 1.0,\n",
       " 0.6666666666666666,\n",
       " 1.0,\n",
       " 0.5,\n",
       " 1.0,\n",
       " 1.0,\n",
       " 1.0,\n",
       " 1.0,\n",
       " -0.5294117647058824,\n",
       " 1.0,\n",
       " 1.0,\n",
       " 1.0,\n",
       " 1.0,\n",
       " 0.3333333333333333,\n",
       " 1.0,\n",
       " -0.5384615384615384,\n",
       " 0.6,\n",
       " 1.0,\n",
       " 1.0,\n",
       " 1.0,\n",
       " 0.7391304347826086,\n",
       " 1.0,\n",
       " 1.0,\n",
       " 0.3333333333333333,\n",
       " 1.0,\n",
       " 1.0,\n",
       " 1.0,\n",
       " 0.8571428571428571,\n",
       " 1.0,\n",
       " 1.0,\n",
       " 0.7142857142857143,\n",
       " 1.0,\n",
       " 0,\n",
       " -0.2631578947368421,\n",
       " -0.15789473684210525,\n",
       " 0.6666666666666666,\n",
       " 1.0,\n",
       " 1.0,\n",
       " -1.0,\n",
       " 1.0,\n",
       " 1.0,\n",
       " 1.0,\n",
       " 1.0,\n",
       " -0.047619047619047616,\n",
       " 1.0,\n",
       " 1.0,\n",
       " 1.0,\n",
       " 1.0,\n",
       " 1.0,\n",
       " 1.0,\n",
       " 1.0,\n",
       " 1.0,\n",
       " -0.42857142857142855,\n",
       " 1.0,\n",
       " 0.0,\n",
       " -0.5294117647058824,\n",
       " 1.0,\n",
       " 1.0,\n",
       " 1.0,\n",
       " 1.0,\n",
       " 1.0,\n",
       " 0.8,\n",
       " 1.0,\n",
       " 1.0,\n",
       " 1.0,\n",
       " 0.0,\n",
       " 1.0,\n",
       " 1.0,\n",
       " 1.0,\n",
       " 1.0,\n",
       " -0.2222222222222222,\n",
       " 1.0,\n",
       " 0.9230769230769231,\n",
       " 1.0,\n",
       " 1.0,\n",
       " 1.0,\n",
       " 1.0,\n",
       " 1.0,\n",
       " 1.0,\n",
       " 1.0,\n",
       " -0.6666666666666666,\n",
       " 0.29411764705882354,\n",
       " 1.0,\n",
       " 1.0,\n",
       " 1.0,\n",
       " 0.75,\n",
       " 1.0,\n",
       " 0.1111111111111111,\n",
       " 1.0,\n",
       " 0,\n",
       " 1.0,\n",
       " 1.0,\n",
       " 0.6,\n",
       " 1.0,\n",
       " 1.0,\n",
       " 1.0,\n",
       " 1.0,\n",
       " -0.5294117647058824,\n",
       " 0.75,\n",
       " 1.0,\n",
       " 1.0,\n",
       " 1.0,\n",
       " -0.47368421052631576,\n",
       " 0,\n",
       " 1.0,\n",
       " 1.0,\n",
       " 1.0,\n",
       " 1.0,\n",
       " -1.0,\n",
       " 1.0,\n",
       " 1.0,\n",
       " 1.0,\n",
       " 1.0,\n",
       " 0.0,\n",
       " 1.0,\n",
       " 1.0,\n",
       " 1.0,\n",
       " 1.0,\n",
       " 1.0,\n",
       " 1.0,\n",
       " 1.0,\n",
       " 1.0,\n",
       " 0.13333333333333333,\n",
       " 1.0,\n",
       " 1.0,\n",
       " 1.0,\n",
       " -1.0,\n",
       " 1.0,\n",
       " 1.0,\n",
       " -0.75,\n",
       " -0.35135135135135137,\n",
       " 1.0,\n",
       " 0.7777777777777778,\n",
       " 0.19047619047619047,\n",
       " 1.0,\n",
       " 1.0,\n",
       " -0.42857142857142855,\n",
       " 1.0,\n",
       " 1.0,\n",
       " 1.0,\n",
       " 1.0,\n",
       " 1.0,\n",
       " 1.0,\n",
       " 1.0,\n",
       " -0.4666666666666667,\n",
       " 1.0,\n",
       " 1.0,\n",
       " 1.0,\n",
       " 1.0,\n",
       " -0.6,\n",
       " 1.0,\n",
       " 1.0,\n",
       " 1.0,\n",
       " -0.3333333333333333,\n",
       " 1.0,\n",
       " -0.29411764705882354,\n",
       " 0.7142857142857143,\n",
       " 1.0,\n",
       " 1.0,\n",
       " 0.6,\n",
       " 1.0,\n",
       " 0,\n",
       " 1.0,\n",
       " 1.0,\n",
       " 1.0,\n",
       " 1.0,\n",
       " 1.0,\n",
       " -0.6923076923076923,\n",
       " 1.0,\n",
       " 0.7142857142857143,\n",
       " 0.6363636363636364,\n",
       " 1.0,\n",
       " 1.0,\n",
       " 1.0,\n",
       " 1.0,\n",
       " 0.5,\n",
       " -0.7333333333333333,\n",
       " 0.0,\n",
       " 1.0,\n",
       " 0.5555555555555556,\n",
       " 0.6,\n",
       " 1.0,\n",
       " 1.0,\n",
       " 1.0,\n",
       " -0.6666666666666666,\n",
       " 0.25,\n",
       " 1.0,\n",
       " -0.8666666666666667,\n",
       " 1.0,\n",
       " 0.3333333333333333,\n",
       " 1.0,\n",
       " 1.0,\n",
       " -0.3684210526315789,\n",
       " 1.0,\n",
       " 1.0,\n",
       " 1.0,\n",
       " 1.0,\n",
       " 0.75,\n",
       " 1.0,\n",
       " 1.0,\n",
       " 1.0,\n",
       " 1.0,\n",
       " 1.0,\n",
       " 1.0,\n",
       " 1.0,\n",
       " 1.0,\n",
       " 1.0,\n",
       " 1.0,\n",
       " -0.1,\n",
       " 1.0,\n",
       " -0.75,\n",
       " 1.0,\n",
       " 1.0,\n",
       " 0.6666666666666666,\n",
       " 1.0,\n",
       " 1.0,\n",
       " 1.0,\n",
       " 0.0,\n",
       " 1.0,\n",
       " -0.5714285714285714,\n",
       " 1.0,\n",
       " 1.0,\n",
       " -0.17647058823529413,\n",
       " 1.0,\n",
       " 1.0,\n",
       " 0.2,\n",
       " 1.0,\n",
       " -0.2222222222222222,\n",
       " 1.0,\n",
       " 1.0,\n",
       " 1.0,\n",
       " 1.0,\n",
       " 1.0,\n",
       " 0.5,\n",
       " -0.6666666666666666,\n",
       " 1.0,\n",
       " 1.0,\n",
       " -0.625,\n",
       " 1.0,\n",
       " 1.0,\n",
       " 1.0,\n",
       " 1.0,\n",
       " 0.3333333333333333,\n",
       " 1.0,\n",
       " 0.75,\n",
       " 1.0,\n",
       " 1.0,\n",
       " 1.0,\n",
       " 1.0,\n",
       " 1.0,\n",
       " 0.0,\n",
       " 1.0,\n",
       " 1.0,\n",
       " 1.0,\n",
       " 1.0,\n",
       " 1.0,\n",
       " 0,\n",
       " 1.0,\n",
       " 1.0,\n",
       " 1.0,\n",
       " 1.0,\n",
       " 1.0,\n",
       " 0.0,\n",
       " 1.0,\n",
       " -0.3333333333333333,\n",
       " 1.0,\n",
       " 0,\n",
       " 1.0,\n",
       " -0.375,\n",
       " 0.8461538461538461,\n",
       " 1.0,\n",
       " 1.0,\n",
       " 1.0,\n",
       " 1.0,\n",
       " 1.0,\n",
       " 1.0,\n",
       " 1.0,\n",
       " 1.0,\n",
       " 1.0,\n",
       " 1.0,\n",
       " 1.0,\n",
       " 1.0]"
      ]
     },
     "execution_count": 47,
     "metadata": {},
     "output_type": "execute_result"
    }
   ],
   "source": [
    "F"
   ]
  },
  {
   "cell_type": "markdown",
   "id": "7a754084",
   "metadata": {},
   "source": [
    "댓글 하나당 점수가 양수이면 긍정적인 댓글, 음수이면 부정적인 댓글로 계산이 된다.\n",
    "이것을 아래의 함수 에 넣어서, 긍정적인 댓글과 부정적인 댓글의 비율로 계산할 수 있다."
   ]
  },
  {
   "cell_type": "code",
   "execution_count": 48,
   "id": "fb6af799",
   "metadata": {},
   "outputs": [],
   "source": [
    "def ration_F(F):\n",
    "    plus = []\n",
    "    minus = []\n",
    "    for i in range(len(F)):\n",
    "        if F[i] > 0: \n",
    "            plus.append(F[i])\n",
    "        elif F[i] < 0: \n",
    "            minus.append(F[i])\n",
    "    return (len(plus))/(len(plus)+len(minus))*100"
   ]
  },
  {
   "cell_type": "code",
   "execution_count": 49,
   "id": "c4aab6a4",
   "metadata": {},
   "outputs": [
    {
     "data": {
      "text/plain": [
       "88.08864265927978"
      ]
     },
     "execution_count": 49,
     "metadata": {},
     "output_type": "execute_result"
    }
   ],
   "source": [
    "ration_F(F)"
   ]
  },
  {
   "cell_type": "markdown",
   "id": "fd05d85b",
   "metadata": {},
   "source": [
    "착용감에 관해서 88%의 사람이 편안하다고 느꼈다."
   ]
  },
  {
   "cell_type": "code",
   "execution_count": 50,
   "id": "6bbb03c8",
   "metadata": {},
   "outputs": [
    {
     "name": "stdout",
     "output_type": "stream",
     "text": [
      "['NanumGothic']\n"
     ]
    }
   ],
   "source": [
    "import matplotlib.pyplot as plt\n",
    "\n",
    "# matplotlib 폰트설정\n",
    "# plt.rc('font', family='NanumGothicOTF') # For MacOS\n",
    "plt.rc('font', family='NanumGothic') # For Windows\n",
    "print(plt.rcParams['font.family'])\n",
    "\n",
    "%matplotlib inline"
   ]
  },
  {
   "cell_type": "code",
   "execution_count": 66,
   "id": "3611d5a4",
   "metadata": {},
   "outputs": [
    {
     "data": {
      "image/png": "[encoded data removed]",
      "text/plain": [
       "<Figure size 432x288 with 1 Axes>"
      ]
     },
     "metadata": {
      "needs_background": "light"
     },
     "output_type": "display_data"
    }
   ],
   "source": [
    "y = np.arange(2)\n",
    "years = ['불편하다', '알맞다']\n",
    "values = [12, 88]\n",
    "\n",
    "plt.title('착용감', fontsize = 16)\n",
    "plt.barh(y, values, color = 'orange')\n",
    "plt.xlabel('단위 : %', loc = 'right')\n",
    "plt.yticks(y, years)\n",
    "\n",
    "plt.show()"
   ]
  },
  {
   "cell_type": "markdown",
   "id": "621bfab0",
   "metadata": {},
   "source": [
    "## 호흡"
   ]
  },
  {
   "cell_type": "code",
   "execution_count": 52,
   "id": "e887ed37",
   "metadata": {},
   "outputs": [],
   "source": [
    "eval_2 = []\n",
    "for i in range(len(res)):\n",
    "    if '숨' in res[i]:\n",
    "        eval_2.append(res[i])"
   ]
  },
  {
   "cell_type": "code",
   "execution_count": 53,
   "id": "f2ab43d7",
   "metadata": {},
   "outputs": [
    {
     "data": {
      "text/plain": [
       "765"
      ]
     },
     "execution_count": 53,
     "metadata": {},
     "output_type": "execute_result"
    }
   ],
   "source": [
    "len(eval_2)"
   ]
  },
  {
   "cell_type": "code",
   "execution_count": 54,
   "id": "8a183303",
   "metadata": {},
   "outputs": [],
   "source": [
    "F = []\n",
    "for i in range(765):\n",
    "    review = eval_2[i]\n",
    "    \n",
    "    pos, neg, result, word_result = eval(review)\n",
    "    F.append(fomula(pos, neg))"
   ]
  },
  {
   "cell_type": "code",
   "execution_count": 55,
   "id": "1945bf7e",
   "metadata": {},
   "outputs": [
    {
     "data": {
      "text/plain": [
       "81.19891008174388"
      ]
     },
     "execution_count": 55,
     "metadata": {},
     "output_type": "execute_result"
    }
   ],
   "source": [
    "ration_F(F)"
   ]
  },
  {
   "cell_type": "code",
   "execution_count": 65,
   "id": "37c425dd",
   "metadata": {},
   "outputs": [
    {
     "data": {
      "image/png": "[encoded data removed]",
      "text/plain": [
       "<Figure size 432x288 with 1 Axes>"
      ]
     },
     "metadata": {
      "needs_background": "light"
     },
     "output_type": "display_data"
    }
   ],
   "source": [
    "y = np.arange(2)\n",
    "years = ['불편하다', '편하다']\n",
    "values = [19, 81]\n",
    "\n",
    "plt.title('호흡', fontsize = 16)\n",
    "plt.barh(y, values, color = 'orange')\n",
    "plt.xlabel('단위 : %', loc = 'right')\n",
    "plt.yticks(y, years)\n",
    "\n",
    "plt.show()"
   ]
  },
  {
   "cell_type": "markdown",
   "id": "e94c4f28",
   "metadata": {},
   "source": [
    "## 배송"
   ]
  },
  {
   "cell_type": "code",
   "execution_count": 57,
   "id": "ae644c27",
   "metadata": {},
   "outputs": [],
   "source": [
    "eval_4 = []\n",
    "for i in range(len(res)):\n",
    "    if '배송' in res[i]:\n",
    "        eval_4.append(res[i])"
   ]
  },
  {
   "cell_type": "code",
   "execution_count": 58,
   "id": "6b52cb5b",
   "metadata": {},
   "outputs": [
    {
     "data": {
      "text/plain": [
       "2224"
      ]
     },
     "execution_count": 58,
     "metadata": {},
     "output_type": "execute_result"
    }
   ],
   "source": [
    "len(eval_4)"
   ]
  },
  {
   "cell_type": "code",
   "execution_count": 59,
   "id": "d88782ae",
   "metadata": {},
   "outputs": [],
   "source": [
    "F = []\n",
    "for i in range(765):\n",
    "    review = eval_4[i]\n",
    "    \n",
    "    pos, neg, result, word_result = eval(review)\n",
    "    F.append(fomula(pos, neg))"
   ]
  },
  {
   "cell_type": "code",
   "execution_count": 60,
   "id": "991192fe",
   "metadata": {},
   "outputs": [
    {
     "data": {
      "text/plain": [
       "95.81589958158996"
      ]
     },
     "execution_count": 60,
     "metadata": {},
     "output_type": "execute_result"
    }
   ],
   "source": [
    "ration_F(F)"
   ]
  },
  {
   "cell_type": "code",
   "execution_count": 64,
   "id": "d147807b",
   "metadata": {},
   "outputs": [
    {
     "data": {
      "image/png": "[encoded data removed]",
      "text/plain": [
       "<Figure size 432x288 with 1 Axes>"
      ]
     },
     "metadata": {
      "needs_background": "light"
     },
     "output_type": "display_data"
    }
   ],
   "source": [
    "y = np.arange(2)\n",
    "years = ['느리다', '빠르다']\n",
    "values = [4, 96]\n",
    "\n",
    "plt.title('배송', fontsize = 16)\n",
    "plt.barh(y, values, color = 'orange')\n",
    "plt.xlabel('단위 : %', loc = 'right')\n",
    "plt.yticks(y, years)\n",
    "\n",
    "plt.show()"
   ]
  },
  {
   "cell_type": "markdown",
   "id": "bf8d4daa",
   "metadata": {},
   "source": [
    "## 사이즈"
   ]
  },
  {
   "cell_type": "code",
   "execution_count": 6,
   "id": "dade3d1e",
   "metadata": {},
   "outputs": [],
   "source": [
    "eval_3 = []\n",
    "for i in range(len(res)):\n",
    "    if '사이즈' in res[i]:\n",
    "        eval_3.append(res[i])"
   ]
  },
  {
   "cell_type": "code",
   "execution_count": 7,
   "id": "0d020630",
   "metadata": {},
   "outputs": [],
   "source": [
    "large = []\n",
    "small = []\n",
    "fitted = []\n",
    "for i in range(len(eval_3)):\n",
    "    if (('크다' in eval_3[i]) or ('커' in eval_3[i])  or ('큰' in eval_3[i]) or ('큽' in eval_3[i]) or ('컸' in eval_3[i])):\n",
    "        large.append(eval_3[i])\n",
    "    elif (('작다' in eval_3[i]) or ('작' in eval_3[i])):\n",
    "        small.append(eval_3[i])\n",
    "    elif (('알맞다' in eval_3[i]) or ('잘 맞' in eval_3[i]) or ('적절' in eval_3[i]) or ('맞아요' in eval_3[i])or ('적당' in eval_3[i]) or ('넉넉' in eval_3[i])):\n",
    "        fitted.append(eval_3[i])"
   ]
  },
  {
   "cell_type": "markdown",
   "id": "57517e11",
   "metadata": {},
   "source": [
    "사이즈를 언급한 리뷰 중 핵심 표현을 바탕으로 크다, 작다, 알맞다를 언급한 리뷰들을 모았습니다. 어느 정도 모호한 리뷰들도 있었지만, 대부분 정확히 사이즈의 크기를 언급하였습니다."
   ]
  },
  {
   "cell_type": "code",
   "execution_count": 69,
   "id": "6337a43e",
   "metadata": {},
   "outputs": [
    {
     "data": {
      "text/plain": [
       "1159"
      ]
     },
     "execution_count": 69,
     "metadata": {},
     "output_type": "execute_result"
    }
   ],
   "source": [
    "len(eval_3)"
   ]
  },
  {
   "cell_type": "code",
   "execution_count": 70,
   "id": "a652b336",
   "metadata": {},
   "outputs": [
    {
     "data": {
      "text/plain": [
       "304"
      ]
     },
     "execution_count": 70,
     "metadata": {},
     "output_type": "execute_result"
    }
   ],
   "source": [
    "len(fitted)"
   ]
  },
  {
   "cell_type": "code",
   "execution_count": 71,
   "id": "5bf54f17",
   "metadata": {},
   "outputs": [
    {
     "data": {
      "text/plain": [
       "208"
      ]
     },
     "execution_count": 71,
     "metadata": {},
     "output_type": "execute_result"
    }
   ],
   "source": [
    "len(large)"
   ]
  },
  {
   "cell_type": "code",
   "execution_count": 72,
   "id": "f0f2e5d1",
   "metadata": {},
   "outputs": [
    {
     "data": {
      "text/plain": [
       "47"
      ]
     },
     "execution_count": 72,
     "metadata": {},
     "output_type": "execute_result"
    }
   ],
   "source": [
    "len(small)"
   ]
  },
  {
   "cell_type": "code",
   "execution_count": 73,
   "id": "3f98d9fb",
   "metadata": {},
   "outputs": [
    {
     "data": {
      "image/png": "[encoded data removed]",
      "text/plain": [
       "<Figure size 432x288 with 1 Axes>"
      ]
     },
     "metadata": {},
     "output_type": "display_data"
    }
   ],
   "source": [
    "import matplotlib.pyplot as plt\n",
    "\n",
    "ratio = [304, 208, 47]\n",
    "labels = ['fitted', 'large', 'small']\n",
    "\n",
    "plt.pie(ratio, labels=labels, autopct='%.1f%%')\n",
    "plt.show()"
   ]
  },
  {
   "cell_type": "code",
   "execution_count": 8,
   "id": "ce780522",
   "metadata": {},
   "outputs": [
    {
     "data": {
      "text/plain": [
       "['크기가 커서 좋고 사이즈 조절도 가능해서 좋아요',\n",
       " ' 전 얼굴이 큰편은 아닌데 광대가 좀 있어서 대형쓰는데 이건 대형이어도 사이즈조절이 가능해서 더 좋고 끈은 칼국수끈은 아니지만 생각보다 귀도 안아파요',\n",
       " ' 사이즈 크서 얼큰이 남편이 좋아하고 귀걸이 튼튼하고 얼굴에 닿는 부분이 부드러워요',\n",
       " '큰사이즈로 귀가 안아파 좋음',\n",
       " ' KF94인데도 사이즈가 커서  답답하지 않고 얼굴사이즈에 맞게 조절할 수 있어서 좋아요',\n",
       " '끈 조절이 되고 큰 사이즈라 남자분들이 쓰기 좋아요',\n",
       " '사이즈커너  편하다고하네요',\n",
       " '사이즈가 커서 좋습니다',\n",
       " '얼굴이 큰편이라 사이즈가 적당하고 귀가 편해서 좋아요',\n",
       " '항상 쓰는제품이에요 사이즈가 커서 좋음',\n",
       " ' 그런데 리뉴얼되면서 사이즈가 살짝 커진것 같아요',\n",
       " '사이즈조절이 되어 얼큰이 초딩아들 잘맞습니다',\n",
       " '사이즈가 커서 좋아요 👍🏻',\n",
       " '사이즈가 넉넉해서 좋아요 평균보다 두상이 좀 큰 신랑이 착용했는데도 조이지 않고 널널하고, 끈조절이 가능해서 크게 나왔는데도 불구하고 들뜸없이 조절할 수 있었습니다 추천해요',\n",
       " '또 시켰어요 사이즈가 커서 편해요',\n",
       " '사이즈가 엄청 커서 좋아요',\n",
       " '하루종일 써야되는 상황에서 귀의 부담을 더는 끈 사이즈 조절이 큰 장점입니다',\n",
       " '사이즈 커서 얼큰이 남표니가 맘에 들어해요',\n",
       " '사이즈가 커요 편함',\n",
       " '네퓨어마스크 너무 답답하지않고 사이즈 큰편이라 좋아요',\n",
       " '오래썼을때 귀도 안아프고사이즈가 커서 좋아요',\n",
       " '두껍고 사이즈 커요',\n",
       " '사이즈가 커서 좋아요',\n",
       " '사이즈가 커서 좋아요',\n",
       " '가족이 항상 쓰는 제품입니다 얼굴 큰 울 신랑도 얼굴이 작은 딸도 사이즈를 맞출 수 있어 좋아요',\n",
       " '사이즈가  커서  편하고  좋음  끈으로  조절할수  있는  장점',\n",
       " '사이즈가 넉넉해서 얼굴 큰 분들에겐 너무 좋아요',\n",
       " ' 보@ 여전에꺼 좋았는데 이번에 사이즈도커지고좀잘안맞더라구요',\n",
       " '남편얼굴이 큰편인데 이건 사이즈넌ㅍ어져서 매번이거만주문해서 써요',\n",
       " '끈 조절 가능하고 사이즈도 커서 마음에 듭니다',\n",
       " ' 얼굴이 가로로 큰 둥그런형이라 기존 쓰던 마스크 사이즈보다 작길래, 작으면 어쩌나 싶었는데 괜한 걱정이었네요',\n",
       " '마스크 사이즈가 커서 귀가 아프지 않아요',\n",
       " '사이즈커서 최고예요',\n",
       " '마스크 사이즈를 조절할 수 있어서 너무 좋아요 그래도 위아래 큰거는 어쩔수없어서 아수워요',\n",
       " '기존에 사용하던 마스크인데 대형사이즈는 너무 커서 항상 이 마스크 사용해요 마스크 끈을 조절해서 쓸수 있어서 너무 좋아요',\n",
       " '네퓨어 끈조절 있고 대형 사이즈가 커서 착용감이 좋아요',\n",
       " '사이즈가 다른 마스크에 비해 큰편이라서편해요',\n",
       " '사이즈가 엄청커서 줄묶어서 사용해야겠습니다',\n",
       " '끈조절도 가능하고 사이즈가 커서 좋아요',\n",
       " '기존에 쓰던거라 만족하게 사용합니다대형사이즈여도 어떤건 작게 나오던데 이 상품은 크기도 적당해요(살짝 얼큰이인 저에게 잘 맞아요',\n",
       " '편해요사이즈가 큰편이라',\n",
       " '떨어지기 직전에 항상 시킵니다 사이즈 조절이 정말 큰 장점이에요',\n",
       " '사이즈가 좀 큰데 냄새도 안나고 끈조절 돼서 좋아요',\n",
       " '늘 이 상품만 삽니다이젠 다른 마스크는 안심이 안되네요 ㅎ얼큰남 사이즈도 잘 맞고 숨쉬기도 안불편해요',\n",
       " '큰 사이즈와 신속한 배송에 만족합니다',\n",
       " \" '-' 남편은 얼굴이 큰편이고 저는 작은편인데,길이조절되기때문에 사이즈별로 구입할 필요도 없어서 정말 좋아요\",\n",
       " '끈조절이 돼서 귀 안아프게 사용하고있어요 이전에 친정엄마가 주셔서 써봤는데 편하고 좋길래 구매했습니당 마스크 사이즈도 큰편이에요 얼굴 큰 신랑도 만족하며 쓰고있어요ㅎㅎ',\n",
       " '이전에 쓰고 다른마스크쓰다가 다시 돌아왔어요 ㅎㅎㅎ 사이즈조절도 가능하고 넉넉해서 얼굴사이즈가 큰사람이든 작은사람이든 편하게 사용가능한거같아요, 깔끔한 포장도 마음에들아요',\n",
       " '사이즈는 큰데 끈조절이 가능해서 짱 편하고 좋아요 항상 쓰는 마스크^_^',\n",
       " '검정구매후 넘좋아서 나눠주고나니 내꺼는 사라지고ㅎ그래도좋네요 깨끗한 흰색재구매 답답안하구 숨쉬기 좋구요 사이즈 넉넉해 얼굴도 작아보여요 얼큰이 남편도 대만족 완전좋아요',\n",
       " '빠른배송과 사이즈가 커서 편합니다',\n",
       " '가격은 좀  있지만 얼굴 큰 신랑이나 얼굴작은 아이들이나  사이즈 맞춰  끈조절이 되니 좋아요',\n",
       " '사이즈가 넉넉해서 커서 착용하면 아프지 않고 편하고 좋아요',\n",
       " '사이즈 조절 가능해서 얼굴 큰 사람도 좋을듯',\n",
       " '대형이라도 사이즈가 큰편이라 편안하게 사용하고 있습니다 끈 조절 가능해서 귀도 덜 아프게 사용 가능합니다',\n",
       " '뉴네퓨어 마스크는 다른 마스크보다 숨쉬기도 편하고 끈조절이 가능해서 얼굴이 작은 사람이 쓰기에도 좋아요 그리고 다른 마스크도 사이즈도 넉넉해서 얼굴이 큰 사람도 너무 편하게 사용할 수 있어서 온가족이 사용하기에 너무 좋아요 뉴네퓨어 마스크 사용한 이후론 이것만 쭈욱 사용하고 있어요',\n",
       " '사이즈가 커서 귀가 아프지 않아요편안한 마스크 추천해요',\n",
       " '큰아이는 얼굴이 작은편이고 작은 아이는 넓적한 편이라 다른 마스크들은 사이즈가 애매한데 네퓨어는 큰아이 작은아이 다 편하게 잘 쓰고 다녀요',\n",
       " '마스크끈때문에 주문했는데사이즈도넉넉하고 얼큰이아들이좋아하네요ㅋ',\n",
       " ' 일반 대형사이즈보다 조금 큰거같은기분이예요',\n",
       " '사이즈도 얼큰이 우리 가족에게 매우 좋아요품질은 말할 것도 없고요',\n",
       " '사이즈가 커서 남성이사용하기 좋아요 ',\n",
       " '사이즈가 커요',\n",
       " '사이즈 커서 좋아요 ',\n",
       " '항상 마스크는 뉴네퓨어 제품만 사용하게 되네요ㅋㅋ   이번엔 2박스 넉넉하게 주문해서 총 120개 받았습니다ㅋㅋ 배송도 빠른편이고 무엇보다 얼굴사이즈에 맞춰서 끈조절을 할 수있다는게 큰 장점같아요ㅋㅋ 앞으로도 자주 이용할께용^^',\n",
       " '남은 다른거랑 중간바꿔가며 쓰는데 차이가 더 느껴져서 재구매할까합니다평점smil***** 제품선택: KF94 대형 화이트 60매귀도 안아프고 사이즈를 조절할 수 있다는게 가장큰 장점이에요',\n",
       " '남편이 다른마스크 보다 네퓨어마스크가 귀도안아프고 사이즈도 크다고 네퓨어만 사용하네요',\n",
       " '큰 사이즈로 사용 가능한 마스크는 네퓨어 뿐이에요^^',\n",
       " '사이즈 커서 맘이 들어요',\n",
       " '사이즈가 커서 아들이 잘 사용하고 있답니다',\n",
       " '사이즈가커서 매번 이것만 씁니다',\n",
       " '사이즈가 커서좋습니다',\n",
       " '얼큰이 저한텐   딱 맞는 사이즈입니다',\n",
       " ' 사이즈가 커서 좋네요',\n",
       " '길이조절되고 큰사이즈라 남편용으로 항상 주문합니다',\n",
       " '친정엄마에게 마스크 보내드렸는데  얼굴큰아빠도 얼굴작은 엄마도 자기얼굴 사이즈 맞게 마스끄끈조절할수있어서 너무 좋다고 해요',\n",
       " ' ㅋㅋ 아무리 큰사이즈를 사도 귀가 아프다고했는데 이건 조절이 가능하니 괜찮으신가봐요',\n",
       " '다른 마스크보다 사이즈가 좀 큰듯하지만 오히려 덜 답답하고 김서림도 적어 편함',\n",
       " '얼굴 큰 사람에게 사이즈 넉넉하고 좋아요',\n",
       " ' 끈조절이 되다보 중형은 작고 대형은 큰 마스크 사이즈 애매한 사람도 쓰기 괜찮아요',\n",
       " ' 마스크 사이즈가 커서 사용하기 좋습니다',\n",
       " '사이즈가 타 저품보다 커서 숨 쉬기 편하고립스틱이 묻지않아 여기꺼만 써요',\n",
       " '우선 마스크를 얼굴사이즈에 맞게 조절이 가능하다는 점이 젤큰 장점이고,귀가 안아파서 좋구요',\n",
       " '얼굴 사이즈가 큰 사람한테 딱 입니다',\n",
       " ' 사이즈가 커서 좋네요',\n",
       " '좋아요 사이즈도 커서편해요',\n",
       " '사이즈가  커서  편하고 끈조절이 가능해서  좋아요',\n",
       " ' 귀도 안아프고 사이즈도 커서 좋아요 :',\n",
       " '예전에 사용하고 좋았던 기억이있어서 주문했습니다 마스크 냄새도 안나고 사이즈 조절되고 무엇보다 얼굴에 자극이 적으면서 달라붙지않는게 가장 큰 장점입니다',\n",
       " ' 아주 큰 사이즈 필요한 분들만 사시면 될 것 같아요',\n",
       " ' 전 귀가 아파서 큰 사이즈가 좋네요',\n",
       " '사이즈가 커서 좋아오',\n",
       " '사이즈가 커서 마음에 들어요 감사합ㄴ다 잘쓸게요',\n",
       " '사이즈커서 좋아요ㅅㄷ',\n",
       " ' 사이즈는 웰** 대형보다 약간 큽니다',\n",
       " '마스크최고입니다 사이즈도 굿이예요 얼큰남자에 딱이예요',\n",
       " ' 사이즈가 커서 착용하기편하고 귀도 안아파서 좋습니다',\n",
       " '사이즈 넉넉해서 성인남성이 쓰기 좋습니다 여자가 쓰기엔 전체적인 크기가 커서 끈조절해도 크더라구요',\n",
       " '사이즈가 커서 조절 가능하고 귀도 아프지 않음',\n",
       " ' 사이즈가 커서 아빠가 제일 편하다고 좋아하세요',\n",
       " ' 재구매저희 신랑은 이 제품만 쓰고 있어요 다른 제품들은 사이즈가 작아서 불편해서 못 쓰겠다고 아×× , 국× 마스크로 유명한 거 다 샀었는데 자기는 이 제품이 제일 좋다고 하네요 혼자서 사용하지만 매일 쓰고 있어서 금방 재구매를 하고 있습니다 재질도 좋고 보풀라기도 거의 일어나지 않아서 좋아요 ^^ 착용감도 좋고 입에 붙지 않는 것도 큰 장점입니다게다가 이 마스크 만의 장점 끈 조절이 가능해서 사이즈 조절이 가능합니다 재구매의사는 200%입니다 ^^♡',\n",
       " ' 사이즈 큰 마스크 찾고있었는데 그나마 이게 젤 큰거 같아요',\n",
       " ' 사이즈가 보통 대형보다 커서 편하긴해요',\n",
       " ' 19년도에 네퓨어를 알게된 뒤로는네퓨어 마스크만 사용해요제일 큰 특징 사이즈 조절로 귀가 아프지 않아요장시간 착용을 해도 귀가 아프지 않아매일 착용하는 요즘 부담이 없어요그리고 저렴한 가격 kf94인데 가격도 저렴해넉넉히 쟁여두고 사용하고 있어요또 떨어질때면 주문하러 오겠습니다',\n",
       " ' 사이즈 커서 좋아요',\n",
       " '사이즈가 다른 대형보다 큰것 같아요',\n",
       " '많은 브랜드중  뉴네퓨어가 사이즈가 커서 가족모두 쓸수 있어서 좋아요',\n",
       " ' 양 옆에 사이즈조절끈이 있어 온가족이 쓰기 좋고 화장해도 앞부분이 커서 숨쉬는게 많이 힘들진 않아요',\n",
       " ' 재구매일반마스크 사면 큰데 이거는 사이즈 조절도 잘되고 착용감도 좋아서 계속 네퓨어만 쓰게되네요 마스크걸이도 같이 주셔서 좋네요 잘쓰겠습니다',\n",
       " ' 어른 남자가 쓸 큰 사이즈 마스크가 필요해서 추천받아 구입했습니다',\n",
       " ' 일단 사이즈가 커서 너무 좋아요',\n",
       " ' 저희애는 보통 대형사이즈는 좀 커서 끈조절되는 마스크만 쓰는데 그중에서 누네퓨어가 가격도 저렴하고 품질도 좋은거같아서 대량구매해서 사용하고 있어요',\n",
       " ' 얼큰이남푠 마스크알아보다가 사이즈가 크다고하여 주문해써요',\n",
       " ' 제일 사이즈 큰데 조절끈이 있어서 신랑이랑 같이 쓰기 너무 좋아요',\n",
       " ' 신랑이 얼굴이 큰편인데ㅋㅋ일반 케이에프마스크는 귀가 아파서 못끼겠다고해서 사이즈큰거 찾다가 알게되서 구매했어요귀도안아프고 편하다고하네요',\n",
       " ' 얼굴 큰 남편용으로 구매했는데 사이즈도 잘 맞고 좋아요',\n",
       " ' 같은 대형이라고 적혀있는데 사이즈 차이가 큰가봅니다',\n",
       " ' 엄청 큰 사이즈입니다',\n",
       " '사이즈 커서 온가족 다같이 사용하기 좋고 내구성도 좋네요',\n",
       " ' 재구매사용감좋아요사이즈도 커서 잘 가려지고요 핏도 좋습니다',\n",
       " ' 재구매사이즈 커서 괜찬ㅍ아요',\n",
       " ' 양쪽 크기 조절할 수 있게 되어 있어 얼굴 사이즈가 큰 남성들도 편하게 사용가능 합니다',\n",
       " ' 끈 조절이 되어 편하고 사이즈 커서 얼굴 넉넉히 가려주니 좋아요',\n",
       " ' 사이즈가커서 넉넉하고 귀가안아퍼서좋네요',\n",
       " ' 사이즈 조절끈이있어서  착용이  편합니다 가장큰장점 이에요',\n",
       " ' 다른 마스크들보다 좀 고급진 느낌이에요사이즈는 큰편인듯 합니다',\n",
       " ' 배송도 빠르고 사이즈도 커서 좋아요',\n",
       " ' 너무 좋아요 사이즈는 좀 큰데 끈조절 할수있어서 좋고 보풀도 안일어나고 너무 맘에 들어요',\n",
       " ' 사이즈가 커서 얼큰이에게 딱 이예요',\n",
       " ' 사이즈가 커서 일반 남성 밎 남고등학생 등 사용에 좋아요',\n",
       " ' 끈 길이 조정 기능이 유용하였으며, 무엇보다도 사이즈가 커서 좋았음',\n",
       " ' 얼굴이 큰편인데 귀가 하나도 아프지않고 사이즈가 넉넉해 좋습니다',\n",
       " ' 재구매사이즈가 큰제품이라 구매했는데 만족해요사이즈 조절도 가능해요',\n",
       " ' 사이즈 조정이 가능하고 세로 폭도 넉넉해서얼큰이인 제게는 넘 좋습니다',\n",
       " ' 귀도 아프지 않고 사이즈도 커서 좋음',\n",
       " ' 여자지만 얼굴이 커서 사이즈가 중요한데 얼굴 다 감싸 줍니다',\n",
       " ' 사이즈가 커서 아빠가 좋아하시네요',\n",
       " ' 사이즈가 커서 숨쉬기 편하고 좋습니다',\n",
       " ' 사이즈 조절도 되고, 남편이 커서  편하대요',\n",
       " ' 사이즈가 일반마스크보다 커서 좋네요',\n",
       " ' 사이즈가 커서 좋아요',\n",
       " ' 사이즈가 큰 편임통기성이 떨어지는 곳이 아닌지',\n",
       " ' 사이즈 조절이 가능하여얼굴이 큰 저에게는 너무나 만족합니다',\n",
       " ' 다른 사이즈보다 좀더 큰거같아요 줄도 안아프고 좋아요 이것저것 다써본 고등학생 아들이 젤편하다네요',\n",
       " ' 재구매끈조절되고 사이즈가 커서 이것만 써요',\n",
       " ' 배송빠르고 사이즈 커서 남자친구가 귀가 안아프대요',\n",
       " ' 얼굴 큰 사람한테 좋아요 사이즈 줄여져서 얼굴 작아도 좋아요',\n",
       " ' 사이즈가 커서 비싸도 샀습니다 ㅋ 좋아요',\n",
       " ' 사이즈가 큰것이 좋아요',\n",
       " ' 신랑이 블랙 쓰고 편하대서 화이트도 주문했어요좀 큰 사이즈 대형 찾으시면 이 제품 좋아요',\n",
       " ' 사이즈도 커서 매우만족합니다',\n",
       " ' 마스크사이즈도 커서 좋은것같아요',\n",
       " ' 딱히 불편한 점도 없고 무엇보다 끈 조절이 되어서 사이즈 상관없이 사용할 수 있는 점이 정말 큰 장점인 것 같아요',\n",
       " ' 넉넉한 사이즈에 끈조절이있어 편해요얼굴 큰 남편 딱이네요',\n",
       " ' 사이즈가 너무 큽니다 성인이 쓰기에도 커요얼굴큰 남성분들 쓰시면 될것 같습니다',\n",
       " ' 크기가 커서 좋고 사이즈 조절이 가능해서 온 가족이 잘 쓰고 있어요',\n",
       " ' 길이조절이 되니 얼굴큰 남편도 보통얼굴인 저도 만족하며 쓰고있습니다남편은 귀가 안아파 좋아하고 저는 사이즈다르게 두개사는거보다 구매도 관리도 편하니 만족스럽습니다얼큰이분들 누네퓨어길이조절마스크로 모십니다',\n",
       " ' 사이즈가 커서 좋습니다',\n",
       " ' 사이즈가 넉넉해서 얼굴 큰 남자 편하구요,끈도 부드럽고 조절이 되서 하루종일 써도 귀가 안아파요',\n",
       " ' 사이즈가좀커서 더 좋아요',\n",
       " ' 큰사이즈를 찾던 중에 알게되어 주문했어요',\n",
       " ' 요즘 매일 쓰고다니고 있어요 다른 마스크에 비해 사이즈가 커서 더 좋은 것 같아요',\n",
       " ' 줄 사이즈 조절할 수 있고 얼굴 큰 사람도 편하게 쓸 수 있어 좋아요',\n",
       " ' 신랑이 큰사이즈만',\n",
       " ' 사이즈가 커서 신랑과 아들이 좋아해요',\n",
       " ' 배송진짜 빨라서 좋아요사이즈도 커서 편하개 쓸수 있어요',\n",
       " ' 얼굴이랑 두상이 살짝 큰 남편이 사이즈가 편하다고해서 재구매하게됐어요',\n",
       " ' 상품도 좋고 사이즈 넉넉해서 얼큰이 아빠 드리려고 주문했어요',\n",
       " ' 사이즈가커서  말 할때도 공간이 크니까  땀도  덜차고  코 부분도 내려안지 않고매일  이거만  하게 되네요가격은 비싸지만  편하게  착용할수  있으니앞으로도 이거만  사게될듯요',\n",
       " ' 얼큰이들 쓰기 좋은 사이즈',\n",
       " ' 마스크 사이즈 넉넉하고 길이 조정도 가능해서 얼굴 큰 사람도 편하게 쓸 수 있습니다',\n",
       " ' 사이즈가 큰편이에요',\n",
       " '끈조절이 되서 마스크 대형사이즈가 큰사람에게는 아주 유용해요',\n",
       " ' 재구매사이즈가 커서 아들이 편하다고 합니다 재구매했습니다',\n",
       " ' 사이즈가 커서 너무 좋습니다',\n",
       " '5단계가 되니 비말마스크를 사용하는 것도 불안한 마음이 들어서 구매를 하게 되었어요 지난 번 구매때도 너무 만족스러웠는데 가격인하까지 되어서 더 만족스럽습니다 네퓨어 제품의 가장 큰 장점은, 사이즈가 넉넉하다는 것입니다 얼굴이 큰 남성들도 마스크가 작지 않고 마스크가 입에 닿지 않아서 위생면에서도 뛰어납니다 저희 초등학교 6학년 아들은 이 제품이 편하다고 그 제품을 잘 쓰고 있습니다 저나 얼굴이 작은 편인 작은 아들은 마스크 줄을 조절을 해서 사용하고 있습니다숨쉬기 편하고 마스크에 있는 줄로 사이즈 조절이 가능합니다 이제 필수품이 된 마스크 안전하게 잘 사용하겠습니다 다 사용한 후에는 재구매 예약입니다 ^^마지막으로 빠른 배송 정말 감사합니다 ♡♡',\n",
       " ' 사이즈가 확실히 큽니다늘리면 귀가 안아파요',\n",
       " ' 마스크 사야할 시기라 추천 받아서 샀어요 일반 대형 사이즈는 좀 커서 이러지도 저러지도 못 했는데끈조절이 되는게 너무 좋습니다',\n",
       " ' 사이즈가 커서 숨쉬기가 편해서너무 좋아요',\n",
       " ' 끈 조절 되는 마스크가 거의 없고 일반 대형은 사이즈가 너무 커서 헐겁거든요',\n",
       " ' 사이즈가 커서 좋네요',\n",
       " ' 일본에 사는 가족에게 보내려고 샀는데끈조절되고 사이즈도 커서아주 만족스럽네요',\n",
       " '평점qo**** 역시 조절가능 큰사이즈는 네퓨어',\n",
       " ' 사이즈가 커서 성인이 하기에 좋아요',\n",
       " ' 끈조절도 되고 사이즈도 커서 아주 착용감 좋아요',\n",
       " ' 얼굴이 큰 남편에게도 사이즈가 맞고 초등학생딸에게도 잘맞아요',\n",
       " ' 재구매항상요제품 사용해요 사이즈도 커서 편해요',\n",
       " ' 사이즈 좀 커요ㅠㅠ 중형 있었으면 좋겠어요ㅠ 사이즈는 컸지만 착용감은 편했어요',\n",
       " ' 무엇보다 얼굴이 커서 사이즈 큰 마스크를 원했는데, 괜찮습니다',\n",
       " ' 얼굴 작은 여성분들은 조금 큰 사이즈긴 하지만 끈 묶어서 착용하니 별 문제없었구요,,얼큰사이즈이신 남성분한테는 귀 안아프고 더할나위없이 하루 종일 착용각입니다',\n",
       " ' 얼큰이에게 딱 좋은 사이즈',\n",
       " ' 이건 사이즈가너무좋아요ㅎㅎ 타사꺼 대형이라해서샀는데 너무작어서 고민이였는데 커서 좋아요',\n",
       " ' 피부에 트러블도 안나고 사이즈도 커서 좋아요',\n",
       " ' 남편이 얼굴이 큰 편이라 사이즈가 넉넉한 마스크를 찾고 있었어요',\n",
       " ' 배송도 빠르고 길이조절도 되고 사이즈도 커서 너무좋아요',\n",
       " ' 사이즈가 정말 커서 귀가 안아파서 넘 좋아요배송 완전 빨라요',\n",
       " ' 역시 뉴네퓨어마스크 좋아요 비말도 더운여름에 잘 썼는데 끈조절이되어 편안하게밀착이 잘되어서 좋습니다 사이즈도 큰편이구요 굿',\n",
       " ' 마스크계의 명품 ;; 얼굴이 큰데 사이즈도 딱 좋고 재질도 좋고 이것만 쓰네용',\n",
       " '대형은 커서 코도 떠있고 볼쪽도 바람이 계속 세서 밀착이 안되고 중형은 코가눌려서 불편한데 이건 얼굴 사이즈마다 다 조절이되서 너무 좋아요 최고에요ㅜㅜ 강추입니다사진의 노랑색이 예전에 구매했던 네퓨어입니다^^',\n",
       " ' 큰 사이즈의 마스크가  필요해서 구매했는데 크기가 커서 남성이 사용하기 좋습니다',\n",
       " ' 얼굴 큰 사람한테도 딱맞고 사이즈 조절할 수 있어서 좋아용',\n",
       " ' 얼굴 큰 사람한테도 딱맞고 사이즈 조절할 수 있어서 좋아용',\n",
       " ' 사이즈도 큰편이고아빠한테도 사이즈가 넉넉 해서좋아요가격도 저렴하게 판매해주셔서 감사합니다',\n",
       " ' 사이즈가 커서 좋아요 배송도 지금 밀리는데 빨리받구요 추처내요',\n",
       " ' 똑같은 대형 사이즈라고 해도 이 제품이 좀 더 큰것 같고 코와 턱에 잘 밀착 됩니다',\n",
       " ' 큰 사이즈로 귀가 안아픈 마스크를 찾고있었는데, 뉴네퓨어 사용후엔 이 제품만 써요',\n",
       " ' 큰 사이즈 마스크 찾는분',\n",
       " ' 듣던대로 크기가 커요ㅎ 성인남자인데도 헐겁ㅎㅎ 저흰 일부러 그런거 찾아쓴 거이긴 한데 ㅋ 얼큰분 말고는 사이즈 조절은 필수일 것 같아요ㅎㅎ']"
      ]
     },
     "execution_count": 8,
     "metadata": {},
     "output_type": "execute_result"
    }
   ],
   "source": [
    "large"
   ]
  },
  {
   "cell_type": "code",
   "execution_count": null,
   "id": "f29596f3",
   "metadata": {},
   "outputs": [],
   "source": []
  }
 ],
 "metadata": {
  "kernelspec": {
   "display_name": "Python 3",
   "language": "python",
   "name": "python3"
  },
  "language_info": {
   "codemirror_mode": {
    "name": "ipython",
    "version": 3
   },
   "file_extension": ".py",
   "mimetype": "text/x-python",
   "name": "python",
   "nbconvert_exporter": "python",
   "pygments_lexer": "ipython3",
   "version": "3.7.10"
  }
 },
 "nbformat": 4,
 "nbformat_minor": 5
}
