{
 "cells": [
  {
   "cell_type": "code",
   "execution_count": 139,
   "id": "215780fc",
   "metadata": {},
   "outputs": [],
   "source": [
    "import re\n",
    "import numpy as np\n",
    "import pandas as pd\n",
    "import json\n",
    "from konlpy.tag import Mecab\n",
    "m = Mecab(dicpath=r\"C:\\mecab\\mecab-ko-dic\")\n",
    "df = pd.read_csv('C:/Users/SAMSUNG/NLP_TRY(Final project)/after_최종본/입체형_뉴네퓨어_kf94_대형_after2.csv')\n",
    "with open('C:/Users/SAMSUNG/NLP_TRY(Final project)/SentiWord_info(2차 수정본).json', encoding='utf-8-sig', mode='r') as f:\n",
    "        data = json.load(f)"
   ]
  },
  {
   "cell_type": "code",
   "execution_count": 140,
   "id": "4f2d9543",
   "metadata": {},
   "outputs": [],
   "source": [
    "res = []\n",
    "for i in range(18569):\n",
    "    res.append(df['review_content\\r'][i])"
   ]
  },
  {
   "cell_type": "code",
   "execution_count": 141,
   "id": "c42986d1",
   "metadata": {},
   "outputs": [],
   "source": [
    "res = \"\".join(res)"
   ]
  },
  {
   "cell_type": "code",
   "execution_count": 142,
   "id": "58c386d6",
   "metadata": {},
   "outputs": [],
   "source": [
    "res = res.replace('!', '.').replace('?', '.').replace('~', '.').replace('\\r', '.')"
   ]
  },
  {
   "cell_type": "code",
   "execution_count": 143,
   "id": "ff66160b",
   "metadata": {},
   "outputs": [],
   "source": [
    "res = res.split('.')"
   ]
  },
  {
   "cell_type": "markdown",
   "id": "bad9464b",
   "metadata": {},
   "source": [
    "## 착용감"
   ]
  },
  {
   "cell_type": "code",
   "execution_count": 144,
   "id": "4e2a6289",
   "metadata": {},
   "outputs": [],
   "source": [
    "evalution = []\n",
    "for i in range(len(res)):\n",
    "    if '착용감' in res[i]:\n",
    "        evalution.append(res[i])"
   ]
  },
  {
   "cell_type": "code",
   "execution_count": 146,
   "id": "05e4e8a9",
   "metadata": {},
   "outputs": [
    {
     "data": {
      "text/plain": [
       "380"
      ]
     },
     "execution_count": 146,
     "metadata": {},
     "output_type": "execute_result"
    }
   ],
   "source": [
    "len(evalution)"
   ]
  },
  {
   "cell_type": "code",
   "execution_count": 147,
   "id": "62d51385",
   "metadata": {},
   "outputs": [],
   "source": [
    "def eval(review):\n",
    "    result = []\n",
    "    word_result = []\n",
    "    pos = 0\n",
    "    neg = 0\n",
    "    word = m.morphs(review)\n",
    "    \n",
    "    for j in range(0, len(word)):\n",
    "        for i in range(0, len(data)):\n",
    "            if word[j] == data[i]['word_root']:\n",
    "                result.append(data[i]['polarity'])\n",
    "                word_result.append(data[i]['word'])\n",
    "    for i in result:\n",
    "        if i == 1:\n",
    "            pos += 1\n",
    "        elif i == -1:\n",
    "            neg += 1\n",
    "            \n",
    "    return pos, neg, result,word_result\n",
    "def fomula(pos, neg):\n",
    "    if pos == 0 and neg == 0:\n",
    "        return 0\n",
    "    \n",
    "    return ((pos - neg) / (pos + neg))"
   ]
  },
  {
   "cell_type": "code",
   "execution_count": 148,
   "id": "4eb25756",
   "metadata": {},
   "outputs": [],
   "source": [
    "F = []\n",
    "for i in range(380):\n",
    "    review = evalution[i]\n",
    "    \n",
    "    pos, neg, result, word_result = eval(review)\n",
    "    F.append(fomula(pos, neg))"
   ]
  },
  {
   "cell_type": "code",
   "execution_count": 149,
   "id": "b9fc44f1",
   "metadata": {},
   "outputs": [
    {
     "data": {
      "text/plain": [
       "[0.6,\n",
       " -1.0,\n",
       " 1.0,\n",
       " 1.0,\n",
       " 0.7142857142857143,\n",
       " 1.0,\n",
       " 1.0,\n",
       " -0.52,\n",
       " 1.0,\n",
       " 1.0,\n",
       " 1.0,\n",
       " 0.0,\n",
       " 1.0,\n",
       " 1.0,\n",
       " 1.0,\n",
       " 1.0,\n",
       " 1.0,\n",
       " 1.0,\n",
       " 1.0,\n",
       " 1.0,\n",
       " 1.0,\n",
       " 1.0,\n",
       " 1.0,\n",
       " 1.0,\n",
       " 1.0,\n",
       " 1.0,\n",
       " 1.0,\n",
       " 1.0,\n",
       " 0.0,\n",
       " 1.0,\n",
       " 1.0,\n",
       " 1.0,\n",
       " 1.0,\n",
       " 1.0,\n",
       " -0.3333333333333333,\n",
       " 0.5,\n",
       " 1.0,\n",
       " 1.0,\n",
       " 1.0,\n",
       " 1.0,\n",
       " 1.0,\n",
       " 1.0,\n",
       " 1.0,\n",
       " -1.0,\n",
       " 0.8823529411764706,\n",
       " 1.0,\n",
       " 1.0,\n",
       " 1.0,\n",
       " 1.0,\n",
       " 1.0,\n",
       " 1.0,\n",
       " 1.0,\n",
       " -0.05263157894736842,\n",
       " 0.6,\n",
       " 1.0,\n",
       " 1.0,\n",
       " 1.0,\n",
       " 1.0,\n",
       " 0.0,\n",
       " 1.0,\n",
       " 0.25925925925925924,\n",
       " -0.2222222222222222,\n",
       " 0,\n",
       " 1.0,\n",
       " 1.0,\n",
       " 1.0,\n",
       " 1.0,\n",
       " 1.0,\n",
       " 0.0,\n",
       " 1.0,\n",
       " 1.0,\n",
       " 0.6666666666666666,\n",
       " 1.0,\n",
       " -0.3333333333333333,\n",
       " 1.0,\n",
       " 1.0,\n",
       " 1.0,\n",
       " 1.0,\n",
       " 1.0,\n",
       " 1.0,\n",
       " 1.0,\n",
       " 1.0,\n",
       " 1.0,\n",
       " 1.0,\n",
       " 1.0,\n",
       " -0.21739130434782608,\n",
       " 1.0,\n",
       " 1.0,\n",
       " 0.0,\n",
       " 1.0,\n",
       " -0.3333333333333333,\n",
       " 1.0,\n",
       " 1.0,\n",
       " 1.0,\n",
       " -0.42857142857142855,\n",
       " -1.0,\n",
       " 1.0,\n",
       " 1.0,\n",
       " 1.0,\n",
       " 0.6666666666666666,\n",
       " 1.0,\n",
       " 0.5,\n",
       " 1.0,\n",
       " 1.0,\n",
       " 1.0,\n",
       " 1.0,\n",
       " -0.5294117647058824,\n",
       " 1.0,\n",
       " 1.0,\n",
       " 1.0,\n",
       " 1.0,\n",
       " 0.3333333333333333,\n",
       " 1.0,\n",
       " -0.5384615384615384,\n",
       " 0.2,\n",
       " 1.0,\n",
       " 1.0,\n",
       " 1.0,\n",
       " 0.7391304347826086,\n",
       " 1.0,\n",
       " 1.0,\n",
       " 0.3333333333333333,\n",
       " 1.0,\n",
       " 1.0,\n",
       " 0.0,\n",
       " 0.8461538461538461,\n",
       " 1.0,\n",
       " 1.0,\n",
       " 0.6666666666666666,\n",
       " 1.0,\n",
       " 0,\n",
       " -0.2631578947368421,\n",
       " -0.15789473684210525,\n",
       " 0.6,\n",
       " 1.0,\n",
       " 1.0,\n",
       " -1.0,\n",
       " 1.0,\n",
       " 1.0,\n",
       " 1.0,\n",
       " 1.0,\n",
       " -0.047619047619047616,\n",
       " 1.0,\n",
       " 1.0,\n",
       " 1.0,\n",
       " 1.0,\n",
       " 1.0,\n",
       " 1.0,\n",
       " 1.0,\n",
       " 1.0,\n",
       " -0.42857142857142855,\n",
       " 0.5,\n",
       " 0.0,\n",
       " -0.625,\n",
       " 1.0,\n",
       " 1.0,\n",
       " 1.0,\n",
       " 1.0,\n",
       " 1.0,\n",
       " 0.7777777777777778,\n",
       " 0.5,\n",
       " 1.0,\n",
       " 1.0,\n",
       " -0.04,\n",
       " 1.0,\n",
       " 1.0,\n",
       " 1.0,\n",
       " 1.0,\n",
       " -0.29411764705882354,\n",
       " 1.0,\n",
       " 0.9230769230769231,\n",
       " 1.0,\n",
       " 1.0,\n",
       " 0.42857142857142855,\n",
       " 1.0,\n",
       " 1.0,\n",
       " 1.0,\n",
       " 1.0,\n",
       " -0.6666666666666666,\n",
       " 0.29411764705882354,\n",
       " 1.0,\n",
       " 1.0,\n",
       " 0,\n",
       " 0.7142857142857143,\n",
       " 1.0,\n",
       " 0.1111111111111111,\n",
       " 1.0,\n",
       " 0,\n",
       " 1.0,\n",
       " 1.0,\n",
       " 0.5,\n",
       " 1.0,\n",
       " 1.0,\n",
       " 1.0,\n",
       " 0,\n",
       " -0.6470588235294118,\n",
       " 0.6666666666666666,\n",
       " 1.0,\n",
       " 1.0,\n",
       " 1.0,\n",
       " -0.5555555555555556,\n",
       " 0,\n",
       " 1.0,\n",
       " 0,\n",
       " 1.0,\n",
       " 1.0,\n",
       " -1.0,\n",
       " 1.0,\n",
       " 1.0,\n",
       " 1.0,\n",
       " 1.0,\n",
       " 0.0,\n",
       " 1.0,\n",
       " 1.0,\n",
       " 0,\n",
       " 1.0,\n",
       " 1.0,\n",
       " 0,\n",
       " 1.0,\n",
       " 1.0,\n",
       " 0.13333333333333333,\n",
       " 1.0,\n",
       " 1.0,\n",
       " 1.0,\n",
       " -1.0,\n",
       " 1.0,\n",
       " 1.0,\n",
       " -0.7647058823529411,\n",
       " -0.42857142857142855,\n",
       " 1.0,\n",
       " 0.7777777777777778,\n",
       " 0.1282051282051282,\n",
       " 1.0,\n",
       " 1.0,\n",
       " -0.42857142857142855,\n",
       " 1.0,\n",
       " 1.0,\n",
       " 1.0,\n",
       " 1.0,\n",
       " 1.0,\n",
       " 1.0,\n",
       " 1.0,\n",
       " -0.4666666666666667,\n",
       " 1.0,\n",
       " 1.0,\n",
       " 1.0,\n",
       " 1.0,\n",
       " -0.6,\n",
       " 1.0,\n",
       " 0.5,\n",
       " 1.0,\n",
       " -0.3333333333333333,\n",
       " 1.0,\n",
       " -0.375,\n",
       " 0.7142857142857143,\n",
       " 0.6666666666666666,\n",
       " 1.0,\n",
       " 0.6,\n",
       " 1.0,\n",
       " 0,\n",
       " 1.0,\n",
       " 1.0,\n",
       " 1.0,\n",
       " 1.0,\n",
       " 1.0,\n",
       " -0.6923076923076923,\n",
       " 1.0,\n",
       " 0.5,\n",
       " 0.6363636363636364,\n",
       " 1.0,\n",
       " 1.0,\n",
       " 1.0,\n",
       " 1.0,\n",
       " 0.3333333333333333,\n",
       " -0.7333333333333333,\n",
       " 0.0,\n",
       " 1.0,\n",
       " 0.42857142857142855,\n",
       " 0.6,\n",
       " 1.0,\n",
       " 1.0,\n",
       " 1.0,\n",
       " -0.6666666666666666,\n",
       " 0.0,\n",
       " 1.0,\n",
       " -0.8666666666666667,\n",
       " 1.0,\n",
       " 0.3333333333333333,\n",
       " 1.0,\n",
       " 1.0,\n",
       " -0.3684210526315789,\n",
       " 1.0,\n",
       " 1.0,\n",
       " 1.0,\n",
       " 1.0,\n",
       " 0.7391304347826086,\n",
       " 1.0,\n",
       " 1.0,\n",
       " 1.0,\n",
       " 1.0,\n",
       " 1.0,\n",
       " 1.0,\n",
       " 1.0,\n",
       " 1.0,\n",
       " 0.5,\n",
       " 1.0,\n",
       " -0.1,\n",
       " 1.0,\n",
       " -0.75,\n",
       " 1.0,\n",
       " 1.0,\n",
       " 0.6666666666666666,\n",
       " 1.0,\n",
       " 0.0,\n",
       " 1.0,\n",
       " -1.0,\n",
       " 1.0,\n",
       " -0.5714285714285714,\n",
       " 1.0,\n",
       " 1.0,\n",
       " -0.17647058823529413,\n",
       " 1.0,\n",
       " 1.0,\n",
       " 0.2,\n",
       " 1.0,\n",
       " -0.2631578947368421,\n",
       " 1.0,\n",
       " 1.0,\n",
       " 1.0,\n",
       " 1.0,\n",
       " 1.0,\n",
       " 0.5,\n",
       " -0.6666666666666666,\n",
       " 1.0,\n",
       " 1.0,\n",
       " -0.625,\n",
       " 1.0,\n",
       " 1.0,\n",
       " 1.0,\n",
       " 1.0,\n",
       " 0.3333333333333333,\n",
       " 1.0,\n",
       " 0.7142857142857143,\n",
       " 1.0,\n",
       " 1.0,\n",
       " 1.0,\n",
       " 1.0,\n",
       " 1.0,\n",
       " 0.0,\n",
       " 1.0,\n",
       " 1.0,\n",
       " 1.0,\n",
       " 1.0,\n",
       " 1.0,\n",
       " 0,\n",
       " 1.0,\n",
       " 1.0,\n",
       " 1.0,\n",
       " 1.0,\n",
       " 1.0,\n",
       " 0.0,\n",
       " 0.3333333333333333,\n",
       " -0.3333333333333333,\n",
       " 1.0,\n",
       " 0,\n",
       " 1.0,\n",
       " -0.375,\n",
       " 0.8461538461538461,\n",
       " 1.0,\n",
       " 1.0,\n",
       " 1.0,\n",
       " 1.0,\n",
       " 1.0,\n",
       " 1.0,\n",
       " 1.0,\n",
       " 1.0,\n",
       " 1.0,\n",
       " 1.0,\n",
       " 1.0,\n",
       " 1.0]"
      ]
     },
     "execution_count": 149,
     "metadata": {},
     "output_type": "execute_result"
    }
   ],
   "source": [
    "F"
   ]
  },
  {
   "cell_type": "markdown",
   "id": "7a754084",
   "metadata": {},
   "source": [
    "댓글 하나당 점수가 양수이면 긍정적인 댓글, 음수이면 부정적인 댓글로 계산이 된다.\n",
    "이것을 아래의 함수 에 넣어서, 긍정적인 댓글과 부정적인 댓글의 비율로 계산할 수 있다."
   ]
  },
  {
   "cell_type": "code",
   "execution_count": 150,
   "id": "fb6af799",
   "metadata": {},
   "outputs": [],
   "source": [
    "def ration_F(F):\n",
    "    plus = []\n",
    "    minus = []\n",
    "    for i in range(len(F)):\n",
    "        if F[i] > 0: \n",
    "            plus.append(F[i])\n",
    "        elif F[i] < 0: \n",
    "            minus.append(F[i])\n",
    "    return (len(plus))/(len(plus)+len(minus))*100"
   ]
  },
  {
   "cell_type": "code",
   "execution_count": 151,
   "id": "c4aab6a4",
   "metadata": {},
   "outputs": [
    {
     "data": {
      "text/plain": [
       "86.47887323943661"
      ]
     },
     "execution_count": 151,
     "metadata": {},
     "output_type": "execute_result"
    }
   ],
   "source": [
    "ration_F(F)"
   ]
  },
  {
   "cell_type": "markdown",
   "id": "fd05d85b",
   "metadata": {},
   "source": [
    "착용감에 관해서 86%의 사람이 편안하다고 느꼈다."
   ]
  },
  {
   "cell_type": "code",
   "execution_count": 296,
   "id": "6bbb03c8",
   "metadata": {},
   "outputs": [
    {
     "name": "stdout",
     "output_type": "stream",
     "text": [
      "['NanumGothic']\n"
     ]
    }
   ],
   "source": [
    "import matplotlib.pyplot as plt\n",
    "\n",
    "# matplotlib 폰트설정\n",
    "# plt.rc('font', family='NanumGothicOTF') # For MacOS\n",
    "plt.rc('font', family='NanumGothic') # For Windows\n",
    "print(plt.rcParams['font.family'])\n",
    "\n",
    "%matplotlib inline"
   ]
  },
  {
   "cell_type": "code",
   "execution_count": 314,
   "id": "3611d5a4",
   "metadata": {},
   "outputs": [
    {
     "data": {
      "image/png": "[encoded data removed]",
      "text/plain": [
       "<Figure size 432x288 with 1 Axes>"
      ]
     },
     "metadata": {
      "needs_background": "light"
     },
     "output_type": "display_data"
    }
   ],
   "source": [
    "y = np.arange(2)\n",
    "years = ['불편하다', '알맞다']\n",
    "values = [14, 86]\n",
    "\n",
    "plt.title('착용감', fontsize = 16)\n",
    "plt.barh(y, values, color = 'orange')\n",
    "plt.xlabel('단위 : %', loc = 'right')\n",
    "plt.yticks(y, years)\n",
    "\n",
    "plt.show()"
   ]
  },
  {
   "cell_type": "markdown",
   "id": "621bfab0",
   "metadata": {},
   "source": [
    "## 호흡"
   ]
  },
  {
   "cell_type": "code",
   "execution_count": 152,
   "id": "e887ed37",
   "metadata": {},
   "outputs": [],
   "source": [
    "eval_2 = []\n",
    "for i in range(len(res)):\n",
    "    if '숨' in res[i]:\n",
    "        eval_2.append(res[i])"
   ]
  },
  {
   "cell_type": "code",
   "execution_count": 154,
   "id": "f2ab43d7",
   "metadata": {},
   "outputs": [
    {
     "data": {
      "text/plain": [
       "765"
      ]
     },
     "execution_count": 154,
     "metadata": {},
     "output_type": "execute_result"
    }
   ],
   "source": [
    "len(eval_2)"
   ]
  },
  {
   "cell_type": "code",
   "execution_count": 155,
   "id": "8a183303",
   "metadata": {},
   "outputs": [],
   "source": [
    "F = []\n",
    "for i in range(765):\n",
    "    review = eval_2[i]\n",
    "    \n",
    "    pos, neg, result, word_result = eval(review)\n",
    "    F.append(fomula(pos, neg))"
   ]
  },
  {
   "cell_type": "code",
   "execution_count": 156,
   "id": "1945bf7e",
   "metadata": {},
   "outputs": [
    {
     "data": {
      "text/plain": [
       "77.72925764192141"
      ]
     },
     "execution_count": 156,
     "metadata": {},
     "output_type": "execute_result"
    }
   ],
   "source": [
    "ration_F(F)"
   ]
  },
  {
   "cell_type": "code",
   "execution_count": 315,
   "id": "37c425dd",
   "metadata": {},
   "outputs": [
    {
     "data": {
      "image/png": "[encoded data removed]",
      "text/plain": [
       "<Figure size 432x288 with 1 Axes>"
      ]
     },
     "metadata": {
      "needs_background": "light"
     },
     "output_type": "display_data"
    }
   ],
   "source": [
    "y = np.arange(2)\n",
    "years = ['불편하다', '편하다']\n",
    "values = [22, 78]\n",
    "\n",
    "plt.title('호흡', fontsize = 16)\n",
    "plt.barh(y, values, color = 'orange')\n",
    "plt.xlabel('단위 : %', loc = 'right')\n",
    "plt.yticks(y, years)\n",
    "\n",
    "plt.show()"
   ]
  },
  {
   "cell_type": "markdown",
   "id": "e94c4f28",
   "metadata": {},
   "source": [
    "## 배송"
   ]
  },
  {
   "cell_type": "code",
   "execution_count": 291,
   "id": "ae644c27",
   "metadata": {},
   "outputs": [],
   "source": [
    "eval_4 = []\n",
    "for i in range(len(res)):\n",
    "    if '배송' in res[i]:\n",
    "        eval_4.append(res[i])"
   ]
  },
  {
   "cell_type": "code",
   "execution_count": 292,
   "id": "6b52cb5b",
   "metadata": {},
   "outputs": [
    {
     "data": {
      "text/plain": [
       "2224"
      ]
     },
     "execution_count": 292,
     "metadata": {},
     "output_type": "execute_result"
    }
   ],
   "source": [
    "len(eval_4)"
   ]
  },
  {
   "cell_type": "code",
   "execution_count": 293,
   "id": "d88782ae",
   "metadata": {},
   "outputs": [],
   "source": [
    "F = []\n",
    "for i in range(765):\n",
    "    review = eval_4[i]\n",
    "    \n",
    "    pos, neg, result, word_result = eval(review)\n",
    "    F.append(fomula(pos, neg))"
   ]
  },
  {
   "cell_type": "code",
   "execution_count": 294,
   "id": "991192fe",
   "metadata": {},
   "outputs": [
    {
     "data": {
      "text/plain": [
       "95.21739130434783"
      ]
     },
     "execution_count": 294,
     "metadata": {},
     "output_type": "execute_result"
    }
   ],
   "source": [
    "ration_F(F)"
   ]
  },
  {
   "cell_type": "code",
   "execution_count": 316,
   "id": "d147807b",
   "metadata": {},
   "outputs": [
    {
     "data": {
      "image/png": "[encoded data removed]",
      "text/plain": [
       "<Figure size 432x288 with 1 Axes>"
      ]
     },
     "metadata": {
      "needs_background": "light"
     },
     "output_type": "display_data"
    }
   ],
   "source": [
    "y = np.arange(2)\n",
    "years = ['느리다', '빠르다']\n",
    "values = [5, 95]\n",
    "\n",
    "plt.title('배송', fontsize = 16)\n",
    "plt.barh(y, values, color = 'orange')\n",
    "plt.xlabel('단위 : %', loc = 'right')\n",
    "plt.yticks(y, years)\n",
    "\n",
    "plt.show()"
   ]
  },
  {
   "cell_type": "markdown",
   "id": "bf8d4daa",
   "metadata": {},
   "source": [
    "## 사이즈"
   ]
  },
  {
   "cell_type": "code",
   "execution_count": 267,
   "id": "dade3d1e",
   "metadata": {},
   "outputs": [],
   "source": [
    "eval_3 = []\n",
    "for i in range(len(res)):\n",
    "    if '사이즈' in res[i]:\n",
    "        eval_3.append(res[i])"
   ]
  },
  {
   "cell_type": "code",
   "execution_count": 281,
   "id": "0d020630",
   "metadata": {},
   "outputs": [],
   "source": [
    "large = []\n",
    "small = []\n",
    "fitted = []\n",
    "for i in range(len(eval_3)):\n",
    "    if (('크다' in eval_3[i]) or ('커' in eval_3[i])  or ('큰' in eval_3[i]) or ('큽' in eval_3[i])):\n",
    "        large.append(eval_3[i])\n",
    "    elif (('작다' in eval_3[i]) or ('작' in eval_3[i])):\n",
    "        small.append(eval_3[i])\n",
    "    elif (('알맞다' in eval_3[i]) or ('잘 맞' in eval_3[i]) or ('적절' in eval_3[i]) or ('맞아요' in eval_3[i])or ('적당' in eval_3[i]) or ('넉넉' in eval_3[i])):\n",
    "        fitted.append(eval_3[i])"
   ]
  },
  {
   "cell_type": "markdown",
   "id": "57517e11",
   "metadata": {},
   "source": [
    "사이즈를 언급한 리뷰 중 핵심 표현을 바탕으로 크다, 작다, 알맞다를 언급한 리뷰들을 모았습니다. 어느 정도 모호한 리뷰들도 있었지만, 대부분 정확히 사이즈의 크기를 언급하였습니다."
   ]
  },
  {
   "cell_type": "code",
   "execution_count": 282,
   "id": "a652b336",
   "metadata": {},
   "outputs": [
    {
     "data": {
      "text/plain": [
       "304"
      ]
     },
     "execution_count": 282,
     "metadata": {},
     "output_type": "execute_result"
    }
   ],
   "source": [
    "len(fitted)"
   ]
  },
  {
   "cell_type": "code",
   "execution_count": 283,
   "id": "5bf54f17",
   "metadata": {},
   "outputs": [
    {
     "data": {
      "text/plain": [
       "208"
      ]
     },
     "execution_count": 283,
     "metadata": {},
     "output_type": "execute_result"
    }
   ],
   "source": [
    "len(large)"
   ]
  },
  {
   "cell_type": "code",
   "execution_count": 284,
   "id": "f0f2e5d1",
   "metadata": {},
   "outputs": [
    {
     "data": {
      "text/plain": [
       "47"
      ]
     },
     "execution_count": 284,
     "metadata": {},
     "output_type": "execute_result"
    }
   ],
   "source": [
    "len(small)"
   ]
  },
  {
   "cell_type": "code",
   "execution_count": 288,
   "id": "3f98d9fb",
   "metadata": {},
   "outputs": [
    {
     "data": {
      "image/png": "[encoded data removed]",
      "text/plain": [
       "<Figure size 432x288 with 1 Axes>"
      ]
     },
     "metadata": {},
     "output_type": "display_data"
    }
   ],
   "source": [
    "import matplotlib.pyplot as plt\n",
    "\n",
    "ratio = [304, 208, 47]\n",
    "labels = ['fitted', 'large', 'small']\n",
    "\n",
    "plt.pie(ratio, labels=labels, autopct='%.1f%%')\n",
    "plt.show()"
   ]
  }
 ],
 "metadata": {
  "kernelspec": {
   "display_name": "Python 3",
   "language": "python",
   "name": "python3"
  },
  "language_info": {
   "codemirror_mode": {
    "name": "ipython",
    "version": 3
   },
   "file_extension": ".py",
   "mimetype": "text/x-python",
   "name": "python",
   "nbconvert_exporter": "python",
   "pygments_lexer": "ipython3",
   "version": "3.7.10"
  }
 },
 "nbformat": 4,
 "nbformat_minor": 5
}
